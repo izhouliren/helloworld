{
 "cells": [
  {
   "cell_type": "code",
   "id": "initial_id",
   "metadata": {
    "collapsed": true,
    "ExecuteTime": {
     "end_time": "2024-04-16T11:18:47.921547Z",
     "start_time": "2024-04-16T11:18:47.827916Z"
    }
   },
   "source": [
    "import pymysql  \n",
    "  \n",
    "# 创建连接  \n",
    "connection = pymysql.connect(  \n",
    "    host='localhost',  # 数据库服务器地址  \n",
    "    user='root',   # 数据库用户名  \n",
    "    password='root', # 数据库密码  \n",
    "    database='bilibili',  # 数据库名  \n",
    "    charset='utf8mb4',  # 字符集  \n",
    "    cursorclass=pymysql.cursors.DictCursor  # 返回字典形式的游标  \n",
    ")  \n",
    "  \n",
    "try:  \n",
    "    with connection.cursor() as cursor:  \n",
    "        # 在此处执行 SQL 查询  \n",
    "        sql = \"SELECT `id`, `username` FROM `test` \"  \n",
    "        cursor.execute(sql)  \n",
    "        result = cursor.fetchone()  \n",
    "        print(result)  \n",
    "finally:  \n",
    "    connection.close()"
   ],
   "outputs": [
    {
     "name": "stdout",
     "output_type": "stream",
     "text": [
      "{'id': 1, 'username': 'bob'}\n"
     ]
    }
   ],
   "execution_count": 7
  },
  {
   "metadata": {
    "ExecuteTime": {
     "end_time": "2024-04-16T12:39:13.201093Z",
     "start_time": "2024-04-16T12:39:12.852775Z"
    }
   },
   "cell_type": "code",
   "source": [
    "import requests\n",
    "import pymysql\n",
    "\n",
    "# 创建连接  \n",
    "connection = pymysql.connect(  \n",
    "    host='localhost',  # 数据库服务器地址  \n",
    "    user='root',   # 数据库用户名  \n",
    "    password='root', # 数据库密码  \n",
    "    database='bilibili',  # 数据库名  \n",
    "    charset='utf8mb4',  # 字符集  \n",
    "    cursorclass=pymysql.cursors.DictCursor  # 返回字典形式的游标  \n",
    ")  \n",
    "\n",
    "# 数据接口的URL  \n",
    "url = 'https://api.bilibili.com/x/space/wbi/arc/search?mid=51420401&pn=1&ps=25&index=1&order=pubdate&order_avoided=true&platform=web&web_location=1550101&dm_img_list=[%7B%22x%22:550,%22y%22:-87,%22z%22:0,%22timestamp%22:4,%22k%22:107,%22type%22:0%7D,%7B%22x%22:951,%22y%22:-634,%22z%22:48,%22timestamp%22:161,%22k%22:88,%22type%22:0%7D]&dm_img_str=V2ViR0wgMS4wIChPcGVuR0wgRVMgMi4wIENocm9taXVtKQ&dm_cover_img_str=QU5HTEUgKEFwcGxlLCBBcHBsZSBNMSwgT3BlbkdMIDQuMSlHb29nbGUgSW5jLiAoQXBwbG&dm_img_inter=%7B%22ds%22:[%7B%22t%22:0,%22c%22:%22%22,%22p%22:[306,102,102],%22s%22:[81,4951,4822]%7D],%22wh%22:[3508,5511,26],%22of%22:[197,394,197]%7D&w_rid=65cd76a1cb55f0c43636f374285832b0&wts=1713265842'  \n",
    "  \n",
    "# 设置请求头，模拟浏览器行为  \n",
    "headers = {  \n",
    "    # 'User-Agent': 'Mozilla/5.0 (Windows NT 10.0; Win64; x64) AppleWebKit/537.36 (KHTML, like Gecko) Chrome/123.0.0.0 Safari/537.36 Edg/123.0.0.0'\n",
    "    'User-Agent':'Mozilla/5.0 (Macintosh; Intel Mac OS X 10_15_7) AppleWebKit/537.36 (KHTML, like Gecko) Chrome/123.0.0.0 Safari/537.36 Edg/123.0.0.0'\n",
    "}  \n",
    "  \n",
    "# 如果需要处理Cookies，可以从浏览器获取后设置  \n",
    "# cookies = {'cookie_name': 'cookie_value'}  \n",
    "  \n",
    "# 发送GET请求，带上请求头  \n",
    "response = requests.get(url, headers=headers)  # 如果需要带上Cookies，可以加上cookies=cookies参数  \n",
    "\n",
    "# 检查请求是否成功  \n",
    "if response.status_code == 200:  \n",
    "    # 解析JSON响应（如果接口返回的是JSON）  \n",
    "    json_data = response.json()\n",
    "    # 获取节目列表\n",
    "    data=json_data[\"data\"][\"list\"]['vlist']\n",
    "    print(type(data))\n",
    "    \n",
    "    try:\n",
    "        with connection.cursor() as cursor: \n",
    "            # 在此处执行 SQL 查询 \n",
    "            for item in data:\n",
    "                sql = \"INSERT INTO updata (video_name, play_count, updated, picture, description, comment, bvid) VALUES (%s, %s, %s, %s, %s, %s, %s)\" \n",
    "                print(item[\"title\"])\n",
    "                print(type(item[\"title\"]))\n",
    "                values=(item[\"title\"], \n",
    "                        item[\"play\"], \n",
    "                        item[\"created\"], \n",
    "                        item[\"pic\"], \n",
    "                        item[\"description\"], \n",
    "                        item[\"comment\"], \n",
    "                        item[\"bvid\"])\n",
    "                cursor.execute(sql, values) \n",
    "            connection.commit()  \n",
    "    finally:\n",
    "        connection.close()\n",
    "        print(\"Data inserted successfully.\") \n",
    "else:  \n",
    "    print(f\"请求失败，状态码：{response.status_code}\")"
   ],
   "id": "5362b5f33a9f59b8",
   "outputs": [
    {
     "name": "stdout",
     "output_type": "stream",
     "text": [
      "<class 'list'>\n",
      "【开源与商业】谁用谁维护，Redis 要赚钱！\n",
      "<class 'str'>\n",
      "写代码还给钱？开源之夏了解一下？\n",
      "<class 'str'>\n",
      "【树莓派】10年，累计销售量5000万，估值5亿美元，树莓派存在的意义是什么？\n",
      "<class 'str'>\n",
      "15000元的RISC-V台式工作站能做点什么？RISC-V的软件生态发展的如何？\n",
      "<class 'str'>\n",
      "芯片战国时代，操作系统应该大一统？？？\n",
      "<class 'str'>\n",
      "中美科技战后，中国如何建设自己的 Linux操作系统？\n",
      "<class 'str'>\n",
      "Data inserted successfully.\n"
     ]
    }
   ],
   "execution_count": 32
  }
 ],
 "metadata": {
  "kernelspec": {
   "display_name": "Python 3",
   "language": "python",
   "name": "python3"
  },
  "language_info": {
   "codemirror_mode": {
    "name": "ipython",
    "version": 2
   },
   "file_extension": ".py",
   "mimetype": "text/x-python",
   "name": "python",
   "nbconvert_exporter": "python",
   "pygments_lexer": "ipython2",
   "version": "2.7.6"
  }
 },
 "nbformat": 4,
 "nbformat_minor": 5
}
