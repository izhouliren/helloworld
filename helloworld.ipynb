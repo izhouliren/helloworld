{
 "cells": [
  {
   "cell_type": "code",
   "id": "initial_id",
   "metadata": {
    "collapsed": true,
    "ExecuteTime": {
     "end_time": "2024-04-15T08:38:57.089988Z",
     "start_time": "2024-04-15T08:38:56.651975Z"
    }
   },
   "source": [
    "import pymysql  \n",
    "  \n",
    "# 创建连接  \n",
    "connection = pymysql.connect(  \n",
    "    host='localhost',  # 数据库服务器地址  \n",
    "    user='root',   # 数据库用户名  \n",
    "    password='root', # 数据库密码  \n",
    "    database='bilibili',  # 数据库名  \n",
    "    charset='utf8mb4',  # 字符集  \n",
    "    cursorclass=pymysql.cursors.DictCursor  # 返回字典形式的游标  \n",
    ")  \n",
    "  \n",
    "try:  \n",
    "    with connection.cursor() as cursor:  \n",
    "        # 在此处执行 SQL 查询  \n",
    "        sql = \"SELECT `id`, `username` FROM `test` \"  \n",
    "        cursor.execute(sql)  \n",
    "        result = cursor.fetchone()  \n",
    "        print(result)  \n",
    "finally:  \n",
    "    connection.close()"
   ],
   "outputs": [
    {
     "name": "stdout",
     "output_type": "stream",
     "text": [
      "{'id': 1, 'username': 'bob'}\n"
     ]
    }
   ],
   "execution_count": 2
  },
  {
   "metadata": {},
   "cell_type": "code",
   "outputs": [],
   "execution_count": null,
   "source": [
    "import pymysql  \n",
    "  \n",
    "# 创建连接  \n",
    "connection = pymysql.connect(  \n",
    "    host='gateway01.ap-northeast-1.prod.aws.tidbcloud.com',  # 数据库服务器地址 \n",
    "    port='4000', # 端口号\n",
    "    \n",
    "    user='QozzwDAVqSfD5w1.root',   # 数据库用户名  \n",
    "    password='3536XBwQcinSnsix', # 数据库密码  \n",
    "    database='test',  # 数据库名  \n",
    "    charset='utf8mb4',  # 字符集  \n",
    "    cursorclass=pymysql.cursors.DictCursor  # 返回字典形式的游标  \n",
    ")  \n",
    "  \n",
    "try:  \n",
    "    with connection.cursor() as cursor:  \n",
    "        # 在此处执行 SQL 查询  \n",
    "        sql = \"SELECT `id`, `username` FROM `test` \"  \n",
    "        cursor.execute(sql)  \n",
    "        result = cursor.fetchone()  \n",
    "        print(result)  \n",
    "finally:  \n",
    "    connection.close()"
   ],
   "id": "f5a39e0bd976c424"
  },
  {
   "metadata": {},
   "cell_type": "code",
   "outputs": [],
   "execution_count": null,
   "source": "",
   "id": "5362b5f33a9f59b8"
  }
 ],
 "metadata": {
  "kernelspec": {
   "display_name": "Python 3",
   "language": "python",
   "name": "python3"
  },
  "language_info": {
   "codemirror_mode": {
    "name": "ipython",
    "version": 2
   },
   "file_extension": ".py",
   "mimetype": "text/x-python",
   "name": "python",
   "nbconvert_exporter": "python",
   "pygments_lexer": "ipython2",
   "version": "2.7.6"
  }
 },
 "nbformat": 4,
 "nbformat_minor": 5
}
