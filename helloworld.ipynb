{
 "cells": [
  {
   "cell_type": "code",
   "id": "initial_id",
   "metadata": {
    "collapsed": true,
    "ExecuteTime": {
     "end_time": "2024-04-15T15:18:34.949209Z",
     "start_time": "2024-04-15T15:18:24.688228Z"
    }
   },
   "source": [
    "import pymysql  \n",
    "  \n",
    "# 创建连接  \n",
    "connection = pymysql.connect(  \n",
    "    host='localhost',  # 数据库服务器地址  \n",
    "    user='root',   # 数据库用户名  \n",
    "    password='root', # 数据库密码  \n",
    "    database='bilibili',  # 数据库名  \n",
    "    charset='utf8mb4',  # 字符集  \n",
    "    cursorclass=pymysql.cursors.DictCursor  # 返回字典形式的游标  \n",
    ")  \n",
    "  \n",
    "try:  \n",
    "    with connection.cursor() as cursor:  \n",
    "        # 在此处执行 SQL 查询  \n",
    "        sql = \"SELECT `id`, `username` FROM `test` \"  \n",
    "        cursor.execute(sql)  \n",
    "        result = cursor.fetchone()  \n",
    "        print(result)  \n",
    "finally:  \n",
    "    connection.close()"
   ],
   "outputs": [
    {
     "ename": "ProgrammingError",
     "evalue": "(1146, \"Table 'bilibili.test' doesn't exist\")",
     "output_type": "error",
     "traceback": [
      "\u001B[1;31m---------------------------------------------------------------------------\u001B[0m",
      "\u001B[1;31mProgrammingError\u001B[0m                          Traceback (most recent call last)",
      "Cell \u001B[1;32mIn[19], line 17\u001B[0m\n\u001B[0;32m     14\u001B[0m \u001B[38;5;28;01mwith\u001B[39;00m connection\u001B[38;5;241m.\u001B[39mcursor() \u001B[38;5;28;01mas\u001B[39;00m cursor:  \n\u001B[0;32m     15\u001B[0m     \u001B[38;5;66;03m# 在此处执行 SQL 查询  \u001B[39;00m\n\u001B[0;32m     16\u001B[0m     sql \u001B[38;5;241m=\u001B[39m \u001B[38;5;124m\"\u001B[39m\u001B[38;5;124mSELECT `id`, `username` FROM `test` \u001B[39m\u001B[38;5;124m\"\u001B[39m  \n\u001B[1;32m---> 17\u001B[0m     cursor\u001B[38;5;241m.\u001B[39mexecute(sql)  \n\u001B[0;32m     18\u001B[0m     result \u001B[38;5;241m=\u001B[39m cursor\u001B[38;5;241m.\u001B[39mfetchone()  \n\u001B[0;32m     19\u001B[0m     \u001B[38;5;28mprint\u001B[39m(result)  \n",
      "File \u001B[1;32m~\\miniconda3\\envs\\helloworld\\Lib\\site-packages\\pymysql\\cursors.py:153\u001B[0m, in \u001B[0;36mCursor.execute\u001B[1;34m(self, query, args)\u001B[0m\n\u001B[0;32m    149\u001B[0m     \u001B[38;5;28;01mpass\u001B[39;00m\n\u001B[0;32m    151\u001B[0m query \u001B[38;5;241m=\u001B[39m \u001B[38;5;28mself\u001B[39m\u001B[38;5;241m.\u001B[39mmogrify(query, args)\n\u001B[1;32m--> 153\u001B[0m result \u001B[38;5;241m=\u001B[39m \u001B[38;5;28mself\u001B[39m\u001B[38;5;241m.\u001B[39m_query(query)\n\u001B[0;32m    154\u001B[0m \u001B[38;5;28mself\u001B[39m\u001B[38;5;241m.\u001B[39m_executed \u001B[38;5;241m=\u001B[39m query\n\u001B[0;32m    155\u001B[0m \u001B[38;5;28;01mreturn\u001B[39;00m result\n",
      "File \u001B[1;32m~\\miniconda3\\envs\\helloworld\\Lib\\site-packages\\pymysql\\cursors.py:322\u001B[0m, in \u001B[0;36mCursor._query\u001B[1;34m(self, q)\u001B[0m\n\u001B[0;32m    320\u001B[0m conn \u001B[38;5;241m=\u001B[39m \u001B[38;5;28mself\u001B[39m\u001B[38;5;241m.\u001B[39m_get_db()\n\u001B[0;32m    321\u001B[0m \u001B[38;5;28mself\u001B[39m\u001B[38;5;241m.\u001B[39m_clear_result()\n\u001B[1;32m--> 322\u001B[0m conn\u001B[38;5;241m.\u001B[39mquery(q)\n\u001B[0;32m    323\u001B[0m \u001B[38;5;28mself\u001B[39m\u001B[38;5;241m.\u001B[39m_do_get_result()\n\u001B[0;32m    324\u001B[0m \u001B[38;5;28;01mreturn\u001B[39;00m \u001B[38;5;28mself\u001B[39m\u001B[38;5;241m.\u001B[39mrowcount\n",
      "File \u001B[1;32m~\\miniconda3\\envs\\helloworld\\Lib\\site-packages\\pymysql\\connections.py:558\u001B[0m, in \u001B[0;36mConnection.query\u001B[1;34m(self, sql, unbuffered)\u001B[0m\n\u001B[0;32m    556\u001B[0m     sql \u001B[38;5;241m=\u001B[39m sql\u001B[38;5;241m.\u001B[39mencode(\u001B[38;5;28mself\u001B[39m\u001B[38;5;241m.\u001B[39mencoding, \u001B[38;5;124m\"\u001B[39m\u001B[38;5;124msurrogateescape\u001B[39m\u001B[38;5;124m\"\u001B[39m)\n\u001B[0;32m    557\u001B[0m \u001B[38;5;28mself\u001B[39m\u001B[38;5;241m.\u001B[39m_execute_command(COMMAND\u001B[38;5;241m.\u001B[39mCOM_QUERY, sql)\n\u001B[1;32m--> 558\u001B[0m \u001B[38;5;28mself\u001B[39m\u001B[38;5;241m.\u001B[39m_affected_rows \u001B[38;5;241m=\u001B[39m \u001B[38;5;28mself\u001B[39m\u001B[38;5;241m.\u001B[39m_read_query_result(unbuffered\u001B[38;5;241m=\u001B[39munbuffered)\n\u001B[0;32m    559\u001B[0m \u001B[38;5;28;01mreturn\u001B[39;00m \u001B[38;5;28mself\u001B[39m\u001B[38;5;241m.\u001B[39m_affected_rows\n",
      "File \u001B[1;32m~\\miniconda3\\envs\\helloworld\\Lib\\site-packages\\pymysql\\connections.py:822\u001B[0m, in \u001B[0;36mConnection._read_query_result\u001B[1;34m(self, unbuffered)\u001B[0m\n\u001B[0;32m    820\u001B[0m \u001B[38;5;28;01melse\u001B[39;00m:\n\u001B[0;32m    821\u001B[0m     result \u001B[38;5;241m=\u001B[39m MySQLResult(\u001B[38;5;28mself\u001B[39m)\n\u001B[1;32m--> 822\u001B[0m     result\u001B[38;5;241m.\u001B[39mread()\n\u001B[0;32m    823\u001B[0m \u001B[38;5;28mself\u001B[39m\u001B[38;5;241m.\u001B[39m_result \u001B[38;5;241m=\u001B[39m result\n\u001B[0;32m    824\u001B[0m \u001B[38;5;28;01mif\u001B[39;00m result\u001B[38;5;241m.\u001B[39mserver_status \u001B[38;5;129;01mis\u001B[39;00m \u001B[38;5;129;01mnot\u001B[39;00m \u001B[38;5;28;01mNone\u001B[39;00m:\n",
      "File \u001B[1;32m~\\miniconda3\\envs\\helloworld\\Lib\\site-packages\\pymysql\\connections.py:1200\u001B[0m, in \u001B[0;36mMySQLResult.read\u001B[1;34m(self)\u001B[0m\n\u001B[0;32m   1198\u001B[0m \u001B[38;5;28;01mdef\u001B[39;00m \u001B[38;5;21mread\u001B[39m(\u001B[38;5;28mself\u001B[39m):\n\u001B[0;32m   1199\u001B[0m     \u001B[38;5;28;01mtry\u001B[39;00m:\n\u001B[1;32m-> 1200\u001B[0m         first_packet \u001B[38;5;241m=\u001B[39m \u001B[38;5;28mself\u001B[39m\u001B[38;5;241m.\u001B[39mconnection\u001B[38;5;241m.\u001B[39m_read_packet()\n\u001B[0;32m   1202\u001B[0m         \u001B[38;5;28;01mif\u001B[39;00m first_packet\u001B[38;5;241m.\u001B[39mis_ok_packet():\n\u001B[0;32m   1203\u001B[0m             \u001B[38;5;28mself\u001B[39m\u001B[38;5;241m.\u001B[39m_read_ok_packet(first_packet)\n",
      "File \u001B[1;32m~\\miniconda3\\envs\\helloworld\\Lib\\site-packages\\pymysql\\connections.py:772\u001B[0m, in \u001B[0;36mConnection._read_packet\u001B[1;34m(self, packet_type)\u001B[0m\n\u001B[0;32m    770\u001B[0m     \u001B[38;5;28;01mif\u001B[39;00m \u001B[38;5;28mself\u001B[39m\u001B[38;5;241m.\u001B[39m_result \u001B[38;5;129;01mis\u001B[39;00m \u001B[38;5;129;01mnot\u001B[39;00m \u001B[38;5;28;01mNone\u001B[39;00m \u001B[38;5;129;01mand\u001B[39;00m \u001B[38;5;28mself\u001B[39m\u001B[38;5;241m.\u001B[39m_result\u001B[38;5;241m.\u001B[39munbuffered_active \u001B[38;5;129;01mis\u001B[39;00m \u001B[38;5;28;01mTrue\u001B[39;00m:\n\u001B[0;32m    771\u001B[0m         \u001B[38;5;28mself\u001B[39m\u001B[38;5;241m.\u001B[39m_result\u001B[38;5;241m.\u001B[39munbuffered_active \u001B[38;5;241m=\u001B[39m \u001B[38;5;28;01mFalse\u001B[39;00m\n\u001B[1;32m--> 772\u001B[0m     packet\u001B[38;5;241m.\u001B[39mraise_for_error()\n\u001B[0;32m    773\u001B[0m \u001B[38;5;28;01mreturn\u001B[39;00m packet\n",
      "File \u001B[1;32m~\\miniconda3\\envs\\helloworld\\Lib\\site-packages\\pymysql\\protocol.py:221\u001B[0m, in \u001B[0;36mMysqlPacket.raise_for_error\u001B[1;34m(self)\u001B[0m\n\u001B[0;32m    219\u001B[0m \u001B[38;5;28;01mif\u001B[39;00m DEBUG:\n\u001B[0;32m    220\u001B[0m     \u001B[38;5;28mprint\u001B[39m(\u001B[38;5;124m\"\u001B[39m\u001B[38;5;124merrno =\u001B[39m\u001B[38;5;124m\"\u001B[39m, errno)\n\u001B[1;32m--> 221\u001B[0m err\u001B[38;5;241m.\u001B[39mraise_mysql_exception(\u001B[38;5;28mself\u001B[39m\u001B[38;5;241m.\u001B[39m_data)\n",
      "File \u001B[1;32m~\\miniconda3\\envs\\helloworld\\Lib\\site-packages\\pymysql\\err.py:143\u001B[0m, in \u001B[0;36mraise_mysql_exception\u001B[1;34m(data)\u001B[0m\n\u001B[0;32m    141\u001B[0m \u001B[38;5;28;01mif\u001B[39;00m errorclass \u001B[38;5;129;01mis\u001B[39;00m \u001B[38;5;28;01mNone\u001B[39;00m:\n\u001B[0;32m    142\u001B[0m     errorclass \u001B[38;5;241m=\u001B[39m InternalError \u001B[38;5;28;01mif\u001B[39;00m errno \u001B[38;5;241m<\u001B[39m \u001B[38;5;241m1000\u001B[39m \u001B[38;5;28;01melse\u001B[39;00m OperationalError\n\u001B[1;32m--> 143\u001B[0m \u001B[38;5;28;01mraise\u001B[39;00m errorclass(errno, errval)\n",
      "\u001B[1;31mProgrammingError\u001B[0m: (1146, \"Table 'bilibili.test' doesn't exist\")"
     ]
    }
   ],
   "execution_count": 19
  },
  {
   "metadata": {
    "ExecuteTime": {
     "end_time": "2024-04-15T15:28:23.980550Z",
     "start_time": "2024-04-15T15:28:23.657282Z"
    }
   },
   "cell_type": "code",
   "source": [
    "import requests  \n",
    "  \n",
    "# 数据接口的URL  \n",
    "url = 'https://api.bilibili.com/x/space/wbi/arc/search?mid=51420401&ps=30&tid=0&pn=1&keyword=&order=pubdate&platform=web&web_location=1550101&order_avoided=true&dm_img_list=[%7B%22x%22:306,%22y%22:339,%22z%22:0,%22timestamp%22:167,%22k%22:97,%22type%22:0%7D]&dm_img_str=V2ViR0wgMS4wIChPcGVuR0wgRVMgMi4wIENocm9taXVtKQ&dm_cover_img_str=QU5HTEUgKE5WSURJQSwgTlZJRElBIEdlRm9yY2UgUlRYIDMwNzAgVGkgKDB4MDAwMDIyMDcpIERpcmVjdDNEMTEgdnNfNV8wIHBzXzVfMCwgRDNEMTEpR29vZ2xlIEluYy4gKE5WSURJQS&dm_img_inter=%7B%22ds%22:[%7B%22t%22:4,%22c%22:%22bGVmdC1lbnRyeV9fdGl0bG%22,%22p%22:[290,78,70],%22s%22:[98,606,500]%7D],%22wh%22:[6581,9372,41],%22of%22:[404,808,404]%7D&w_rid=6227bce95dada9c06fa189912043237d&wts=1713193172'  \n",
    "  \n",
    "# 设置请求头，模拟浏览器行为  \n",
    "headers = {  \n",
    "    'User-Agent': 'Mozilla/5.0 (Windows NT 10.0; Win64; x64) AppleWebKit/537.36 (KHTML, like Gecko) Chrome/123.0.0.0 Safari/537.36 Edg/123.0.0.0'  \n",
    "}  \n",
    "  \n",
    "# 如果需要处理Cookies，可以从浏览器获取后设置  \n",
    "# cookies = {'cookie_name': 'cookie_value'}  \n",
    "  \n",
    "# 发送GET请求，带上请求头  \n",
    "response = requests.get(url, headers=headers)  # 如果需要带上Cookies，可以加上cookies=cookies参数  \n",
    "  \n",
    "# 检查请求是否成功  \n",
    "if response.status_code == 200:  \n",
    "    # 解析JSON响应（如果接口返回的是JSON）  \n",
    "    json_data = response.json()\n",
    "    # 获取节目列表\n",
    "    data=json_data[\"data\"][\"list\"][\"vlist\"]\n",
    "    \n",
    "    # 是一个数组，需要循环输出\n",
    "    for data in data:\n",
    "        print(data[\"title\"])\n",
    "        print(data[\"play\"])\n",
    "        print(data[\"pic\"])\n",
    "    # 打印数据或进行其他处理  \n",
    "    # print(data[0]['comment'])  \n",
    "else:  \n",
    "    print(f\"请求失败，状态码：{response.status_code}\")"
   ],
   "id": "5362b5f33a9f59b8",
   "outputs": [
    {
     "name": "stdout",
     "output_type": "stream",
     "text": [
      "【开源与商业】谁用谁维护，Redis 要赚钱！\n",
      "4990\n",
      "http://i1.hdslb.com/bfs/archive/2a8c7dd3e477fbf5a620ac32953e153d30cae0da.jpg\n",
      "写代码还给钱？开源之夏了解一下？\n",
      "4168\n",
      "http://i1.hdslb.com/bfs/archive/ed6b509ad956b9f73b986c23cf82e5bba87776d9.jpg\n",
      "【树莓派】10年，累计销售量5000万，估值5亿美元，树莓派存在的意义是什么？\n",
      "26458\n",
      "http://i1.hdslb.com/bfs/archive/9396fc8a1c2860666ff65860964d432936376378.jpg\n",
      "15000元的RISC-V台式工作站能做点什么？RISC-V的软件生态发展的如何？\n",
      "34664\n",
      "http://i1.hdslb.com/bfs/archive/8e7a7be427ee2b9aaeb0c4b4f94701204e88adc7.jpg\n",
      "芯片战国时代，操作系统应该大一统？？？\n",
      "3330\n",
      "http://i0.hdslb.com/bfs/archive/ec56f6c6ab2dc8a2ab8787c8d9428fc695428960.jpg\n",
      "中美科技战后，中国如何建设自己的 Linux操作系统？\n",
      "14078\n",
      "http://i1.hdslb.com/bfs/archive/f17f5e367c058af4f74c584db86ddaebe3b4075a.jpg\n"
     ]
    }
   ],
   "execution_count": 25
  }
 ],
 "metadata": {
  "kernelspec": {
   "display_name": "Python 3",
   "language": "python",
   "name": "python3"
  },
  "language_info": {
   "codemirror_mode": {
    "name": "ipython",
    "version": 2
   },
   "file_extension": ".py",
   "mimetype": "text/x-python",
   "name": "python",
   "nbconvert_exporter": "python",
   "pygments_lexer": "ipython2",
   "version": "2.7.6"
  }
 },
 "nbformat": 4,
 "nbformat_minor": 5
}
