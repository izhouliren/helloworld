{
 "cells": [
  {
   "cell_type": "code",
   "id": "initial_id",
   "metadata": {
    "collapsed": true,
    "ExecuteTime": {
     "end_time": "2024-04-16T11:18:47.921547Z",
     "start_time": "2024-04-16T11:18:47.827916Z"
    }
   },
   "source": [
    "import pymysql  \n",
    "  \n",
    "# 创建连接  \n",
    "connection = pymysql.connect(  \n",
    "    host='localhost',  # 数据库服务器地址  \n",
    "    user='root',   # 数据库用户名  \n",
    "    password='root', # 数据库密码  \n",
    "    database='bilibili',  # 数据库名  \n",
    "    charset='utf8mb4',  # 字符集  \n",
    "    cursorclass=pymysql.cursors.DictCursor  # 返回字典形式的游标  \n",
    ")  \n",
    "  \n",
    "try:  \n",
    "    with connection.cursor() as cursor:  \n",
    "        # 在此处执行 SQL 查询  \n",
    "        sql = \"SELECT `id`, `username` FROM `test` \"  \n",
    "        cursor.execute(sql)  \n",
    "        result = cursor.fetchone()  \n",
    "        print(result)  \n",
    "finally:  \n",
    "    connection.close()"
   ],
   "outputs": [
    {
     "name": "stdout",
     "output_type": "stream",
     "text": [
      "{'id': 1, 'username': 'bob'}\n"
     ]
    }
   ],
   "execution_count": 7
  },
  {
   "metadata": {
    "ExecuteTime": {
     "end_time": "2024-04-16T12:39:13.201093Z",
     "start_time": "2024-04-16T12:39:12.852775Z"
    }
   },
   "cell_type": "code",
   "source": [
    "import requests\n",
    "import pymysql\n",
    "\n",
    "# 创建连接  \n",
    "connection = pymysql.connect(  \n",
    "    host='localhost',  # 数据库服务器地址  \n",
    "    user='root',   # 数据库用户名  \n",
    "    password='root', # 数据库密码  \n",
    "    database='bilibili',  # 数据库名  \n",
    "    charset='utf8mb4',  # 字符集  \n",
    "    cursorclass=pymysql.cursors.DictCursor  # 返回字典形式的游标  \n",
    ")  \n",
    "\n",
    "# 数据接口的URL  \n",
    "url = 'https://api.bilibili.com/x/space/wbi/arc/search?mid=51420401&pn=1&ps=25&index=1&order=pubdate&order_avoided=true&platform=web&web_location=1550101&dm_img_list=[%7B%22x%22:550,%22y%22:-87,%22z%22:0,%22timestamp%22:4,%22k%22:107,%22type%22:0%7D,%7B%22x%22:951,%22y%22:-634,%22z%22:48,%22timestamp%22:161,%22k%22:88,%22type%22:0%7D]&dm_img_str=V2ViR0wgMS4wIChPcGVuR0wgRVMgMi4wIENocm9taXVtKQ&dm_cover_img_str=QU5HTEUgKEFwcGxlLCBBcHBsZSBNMSwgT3BlbkdMIDQuMSlHb29nbGUgSW5jLiAoQXBwbG&dm_img_inter=%7B%22ds%22:[%7B%22t%22:0,%22c%22:%22%22,%22p%22:[306,102,102],%22s%22:[81,4951,4822]%7D],%22wh%22:[3508,5511,26],%22of%22:[197,394,197]%7D&w_rid=65cd76a1cb55f0c43636f374285832b0&wts=1713265842'  \n",
    "  \n",
    "# 设置请求头，模拟浏览器行为  \n",
    "headers = {  \n",
    "    # 'User-Agent': 'Mozilla/5.0 (Windows NT 10.0; Win64; x64) AppleWebKit/537.36 (KHTML, like Gecko) Chrome/123.0.0.0 Safari/537.36 Edg/123.0.0.0'\n",
    "    'User-Agent':'Mozilla/5.0 (Macintosh; Intel Mac OS X 10_15_7) AppleWebKit/537.36 (KHTML, like Gecko) Chrome/123.0.0.0 Safari/537.36 Edg/123.0.0.0'\n",
    "}  \n",
    "  \n",
    "# 如果需要处理Cookies，可以从浏览器获取后设置  \n",
    "# cookies = {'cookie_name': 'cookie_value'}  \n",
    "  \n",
    "# 发送GET请求，带上请求头  \n",
    "response = requests.get(url, headers=headers)  # 如果需要带上Cookies，可以加上cookies=cookies参数  \n",
    "\n",
    "# 检查请求是否成功  \n",
    "if response.status_code == 200:  \n",
    "    # 解析JSON响应（如果接口返回的是JSON）  \n",
    "    json_data = response.json()\n",
    "    # 获取节目列表\n",
    "    data=json_data[\"data\"][\"list\"]['vlist']\n",
    "    print(type(data))\n",
    "    \n",
    "    try:\n",
    "        with connection.cursor() as cursor: \n",
    "            # 在此处执行 SQL 查询 \n",
    "            for item in data:\n",
    "                sql = \"INSERT INTO updata (video_name, play_count, updated, picture, description, comment, bvid) VALUES (%s, %s, %s, %s, %s, %s, %s)\" \n",
    "                print(item[\"title\"])\n",
    "                print(type(item[\"title\"]))\n",
    "                values=(item[\"title\"], \n",
    "                        item[\"play\"], \n",
    "                        item[\"created\"], \n",
    "                        item[\"pic\"], \n",
    "                        item[\"description\"], \n",
    "                        item[\"comment\"], \n",
    "                        item[\"bvid\"])\n",
    "                cursor.execute(sql, values) \n",
    "            connection.commit()  \n",
    "    finally:\n",
    "        connection.close()\n",
    "        print(\"Data inserted successfully.\") \n",
    "else:  \n",
    "    print(f\"请求失败，状态码：{response.status_code}\")"
   ],
   "id": "5362b5f33a9f59b8",
   "outputs": [
    {
     "name": "stdout",
     "output_type": "stream",
     "text": [
      "<class 'list'>\n",
      "【开源与商业】谁用谁维护，Redis 要赚钱！\n",
      "<class 'str'>\n",
      "写代码还给钱？开源之夏了解一下？\n",
      "<class 'str'>\n",
      "【树莓派】10年，累计销售量5000万，估值5亿美元，树莓派存在的意义是什么？\n",
      "<class 'str'>\n",
      "15000元的RISC-V台式工作站能做点什么？RISC-V的软件生态发展的如何？\n",
      "<class 'str'>\n",
      "芯片战国时代，操作系统应该大一统？？？\n",
      "<class 'str'>\n",
      "中美科技战后，中国如何建设自己的 Linux操作系统？\n",
      "<class 'str'>\n",
      "Data inserted successfully.\n"
     ]
    }
   ],
   "execution_count": 32
  },
  {
   "metadata": {
    "ExecuteTime": {
     "end_time": "2024-04-19T14:48:13.159556Z",
     "start_time": "2024-04-19T14:47:48.964199Z"
    }
   },
   "cell_type": "code",
   "source": [
    "import requests  \n",
    "from bs4 import BeautifulSoup  \n",
    "  \n",
    "# 发送请求，获取网页内容  \n",
    "url = 'https://remword.com/kps_result/'  # 这里替换为你想要抓取的网页的 URL  \n",
    "response = requests.get(url)  \n",
    "  \n",
    "# 使用 BeautifulSoup 解析网页内容  \n",
    "soup = BeautifulSoup(response.text, 'html.parser')  \n",
    "  \n",
    "# 查找你想要的数据，这里以查找所有的段落为例  \n",
    "table = soup.find_all('table')\n",
    "tr_tags=table[2].find_all('tr')\n",
    "\n",
    "if tr_tags:\n",
    "    second_td = tr_tags.find_all('td')\n",
    "    p_tags = second_td.find_all('p')\n",
    "    for p in p_tags:\n",
    "            print(p.text)\n",
    "# 获取 url 链接\n",
    "#second_p_in_first_td = [tr.find('td').find('p') for tr in tr_tags if tr.find('td')]\n",
    "\n",
    "\n",
    "# 获取 Linux Kernel 版本\n",
    "# first_p_in_first_td = [tr.find('td').find('p') for tr in tr_tags if tr.find('td')]\n",
    "# #打印出所有的段落文本 \n",
    "# for p in first_p_in_first_td:  \n",
    "#     if p:\n",
    "#         print(p.text)"
   ],
   "id": "d496d24b1e0e51b9",
   "outputs": [
    {
     "ename": "AttributeError",
     "evalue": "ResultSet object has no attribute 'find_all'. You're probably treating a list of elements like a single element. Did you call find_all() when you meant to call find()?",
     "output_type": "error",
     "traceback": [
      "\u001B[0;31m---------------------------------------------------------------------------\u001B[0m",
      "\u001B[0;31mAttributeError\u001B[0m                            Traceback (most recent call last)",
      "Cell \u001B[0;32mIn[33], line 16\u001B[0m\n\u001B[1;32m     13\u001B[0m tr_tags\u001B[38;5;241m=\u001B[39mtable[\u001B[38;5;241m2\u001B[39m]\u001B[38;5;241m.\u001B[39mfind_all(\u001B[38;5;124m'\u001B[39m\u001B[38;5;124mtr\u001B[39m\u001B[38;5;124m'\u001B[39m)\n\u001B[1;32m     15\u001B[0m \u001B[38;5;28;01mif\u001B[39;00m tr_tags:\n\u001B[0;32m---> 16\u001B[0m     second_td \u001B[38;5;241m=\u001B[39m tr_tags\u001B[38;5;241m.\u001B[39mfind_all(\u001B[38;5;124m'\u001B[39m\u001B[38;5;124mtd\u001B[39m\u001B[38;5;124m'\u001B[39m)\n\u001B[1;32m     17\u001B[0m     p_tags \u001B[38;5;241m=\u001B[39m second_td\u001B[38;5;241m.\u001B[39mfind_all(\u001B[38;5;124m'\u001B[39m\u001B[38;5;124mp\u001B[39m\u001B[38;5;124m'\u001B[39m)\n\u001B[1;32m     18\u001B[0m     \u001B[38;5;28;01mfor\u001B[39;00m p \u001B[38;5;129;01min\u001B[39;00m p_tags:\n",
      "File \u001B[0;32m~/miniconda3/envs/helloworld/lib/python3.11/site-packages/bs4/element.py:2428\u001B[0m, in \u001B[0;36mResultSet.__getattr__\u001B[0;34m(self, key)\u001B[0m\n\u001B[1;32m   2426\u001B[0m \u001B[38;5;28;01mdef\u001B[39;00m \u001B[38;5;21m__getattr__\u001B[39m(\u001B[38;5;28mself\u001B[39m, key):\n\u001B[1;32m   2427\u001B[0m \u001B[38;5;250m    \u001B[39m\u001B[38;5;124;03m\"\"\"Raise a helpful exception to explain a common code fix.\"\"\"\u001B[39;00m\n\u001B[0;32m-> 2428\u001B[0m     \u001B[38;5;28;01mraise\u001B[39;00m \u001B[38;5;167;01mAttributeError\u001B[39;00m(\n\u001B[1;32m   2429\u001B[0m         \u001B[38;5;124m\"\u001B[39m\u001B[38;5;124mResultSet object has no attribute \u001B[39m\u001B[38;5;124m'\u001B[39m\u001B[38;5;132;01m%s\u001B[39;00m\u001B[38;5;124m'\u001B[39m\u001B[38;5;124m. You\u001B[39m\u001B[38;5;124m'\u001B[39m\u001B[38;5;124mre probably treating a list of elements like a single element. Did you call find_all() when you meant to call find()?\u001B[39m\u001B[38;5;124m\"\u001B[39m \u001B[38;5;241m%\u001B[39m key\n\u001B[1;32m   2430\u001B[0m     )\n",
      "\u001B[0;31mAttributeError\u001B[0m: ResultSet object has no attribute 'find_all'. You're probably treating a list of elements like a single element. Did you call find_all() when you meant to call find()?"
     ]
    }
   ],
   "execution_count": 33
  }
 ],
 "metadata": {
  "kernelspec": {
   "display_name": "Python 3",
   "language": "python",
   "name": "python3"
  },
  "language_info": {
   "codemirror_mode": {
    "name": "ipython",
    "version": 2
   },
   "file_extension": ".py",
   "mimetype": "text/x-python",
   "name": "python",
   "nbconvert_exporter": "python",
   "pygments_lexer": "ipython2",
   "version": "2.7.6"
  }
 },
 "nbformat": 4,
 "nbformat_minor": 5
}
